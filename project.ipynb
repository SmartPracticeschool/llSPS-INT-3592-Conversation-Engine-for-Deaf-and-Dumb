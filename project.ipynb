{
 "cells": [
  {
   "cell_type": "code",
   "execution_count": 19,
   "metadata": {},
   "outputs": [
    {
     "name": "stdout",
     "output_type": "stream",
     "text": [
      "Found 2520 images belonging to 36 classes.\n",
      "Found 1076 images belonging to 36 classes.\n"
     ]
    }
   ],
   "source": [
    "from keras.preprocessing.image import ImageDataGenerator\n",
    "train_datagen=ImageDataGenerator(rescale=1./255,rotation_range=20,width_shift_range=0.15,height_shift_range=0.15,\n",
    "                                 shear_range=0.2,zoom_range=0.2,horizontal_flip=True)\n",
    "test_datagen=ImageDataGenerator(rescale=1./255)\n",
    "x_train=train_datagen.flow_from_directory(r'C:\\Users\\Dell\\Desktop\\Deaf and Dumb - AI app\\Dataset-sign languages\\Train_set',\n",
    "                                         target_size=(150,150),batch_size=32,class_mode='categorical')\n",
    "x_test=train_datagen.flow_from_directory(r'C:\\Users\\Dell\\Desktop\\Deaf and Dumb - AI app\\Dataset-sign languages\\Test_set',\n",
    "                                         target_size=(150,150),batch_size=32,class_mode='categorical')\n"
   ]
  },
  {
   "cell_type": "code",
   "execution_count": 20,
   "metadata": {},
   "outputs": [],
   "source": [
    "from keras.models import Sequential\n",
    "from keras.layers import Dense\n",
    "from keras.layers import Conv2D\n",
    "from keras.layers import MaxPooling2D\n",
    "from keras.layers import Flatten\n",
    "from PIL import Image\n",
    "\n",
    "model=Sequential()"
   ]
  },
  {
   "cell_type": "code",
   "execution_count": 21,
   "metadata": {},
   "outputs": [],
   "source": [
    "model.add(Conv2D(32,(3,3),input_shape=(150,150,3),activation='relu'))\n"
   ]
  },
  {
   "cell_type": "code",
   "execution_count": 22,
   "metadata": {},
   "outputs": [],
   "source": [
    "model.add(MaxPooling2D(pool_size=(2,2)))\n"
   ]
  },
  {
   "cell_type": "code",
   "execution_count": 23,
   "metadata": {},
   "outputs": [
    {
     "name": "stderr",
     "output_type": "stream",
     "text": [
      "C:\\Users\\Dell\\.conda\\envs\\tensorflow_env\\lib\\site-packages\\ipykernel_launcher.py:2: UserWarning: Update your `Dense` call to the Keras 2 API: `Dense(activation=\"relu\", units=128, kernel_initializer=\"random_uniform\")`\n",
      "  \n"
     ]
    }
   ],
   "source": [
    "model.add(Flatten())\n",
    "model.add(Dense(output_dim=128,activation='relu',init='random_uniform'))"
   ]
  },
  {
   "cell_type": "code",
   "execution_count": 24,
   "metadata": {},
   "outputs": [
    {
     "name": "stderr",
     "output_type": "stream",
     "text": [
      "C:\\Users\\Dell\\.conda\\envs\\tensorflow_env\\lib\\site-packages\\ipykernel_launcher.py:1: UserWarning: Update your `Dense` call to the Keras 2 API: `Dense(activation=\"softmax\", units=36, kernel_initializer=\"uniform\")`\n",
      "  \"\"\"Entry point for launching an IPython kernel.\n"
     ]
    }
   ],
   "source": [
    "model.add(Dense(output_dim=36,activation='softmax',init='uniform'))"
   ]
  },
  {
   "cell_type": "code",
   "execution_count": 25,
   "metadata": {},
   "outputs": [],
   "source": [
    "#model.add(Dense(output_dim=1,activation='sigmoid',init='random_uniform'))\n",
    "model.compile(optimizer='adam',loss='categorical_crossentropy',metrics=['accuracy'])\n"
   ]
  },
  {
   "cell_type": "code",
   "execution_count": 26,
   "metadata": {},
   "outputs": [
    {
     "name": "stdout",
     "output_type": "stream",
     "text": [
      "Model: \"sequential_4\"\n",
      "_________________________________________________________________\n",
      "Layer (type)                 Output Shape              Param #   \n",
      "=================================================================\n",
      "conv2d_4 (Conv2D)            (None, 148, 148, 32)      896       \n",
      "_________________________________________________________________\n",
      "max_pooling2d_5 (MaxPooling2 (None, 74, 74, 32)        0         \n",
      "_________________________________________________________________\n",
      "flatten_3 (Flatten)          (None, 175232)            0         \n",
      "_________________________________________________________________\n",
      "dense_4 (Dense)              (None, 128)               22429824  \n",
      "_________________________________________________________________\n",
      "dense_5 (Dense)              (None, 36)                4644      \n",
      "=================================================================\n",
      "Total params: 22,435,364\n",
      "Trainable params: 22,435,364\n",
      "Non-trainable params: 0\n",
      "_________________________________________________________________\n"
     ]
    }
   ],
   "source": [
    "model.summary()"
   ]
  },
  {
   "cell_type": "code",
   "execution_count": 27,
   "metadata": {},
   "outputs": [
    {
     "name": "stdout",
     "output_type": "stream",
     "text": [
      "Epoch 1/25\n",
      "78/78 [==============================] - 164s 2s/step - loss: 3.4486 - accuracy: 0.0663 - val_loss: 2.8586 - val_accuracy: 0.1013\n",
      "Epoch 2/25\n",
      "78/78 [==============================] - 127s 2s/step - loss: 2.6077 - accuracy: 0.1491 - val_loss: 2.2382 - val_accuracy: 0.1820\n",
      "Epoch 3/25\n",
      "78/78 [==============================] - 123s 2s/step - loss: 2.2453 - accuracy: 0.2267 - val_loss: 2.2458 - val_accuracy: 0.2289\n",
      "Epoch 4/25\n",
      "78/78 [==============================] - 122s 2s/step - loss: 2.1099 - accuracy: 0.2633 - val_loss: 2.2768 - val_accuracy: 0.2184\n",
      "Epoch 5/25\n",
      "78/78 [==============================] - 132s 2s/step - loss: 2.0338 - accuracy: 0.2862 - val_loss: 2.0484 - val_accuracy: 0.2902\n",
      "Epoch 6/25\n",
      "78/78 [==============================] - 123s 2s/step - loss: 1.9195 - accuracy: 0.3175 - val_loss: 2.0698 - val_accuracy: 0.2749\n",
      "Epoch 7/25\n",
      "78/78 [==============================] - 126s 2s/step - loss: 1.8810 - accuracy: 0.3388 - val_loss: 2.0123 - val_accuracy: 0.3362\n",
      "Epoch 8/25\n",
      "78/78 [==============================] - 122s 2s/step - loss: 1.8371 - accuracy: 0.3428 - val_loss: 1.9312 - val_accuracy: 0.3046\n",
      "Epoch 9/25\n",
      "78/78 [==============================] - 122s 2s/step - loss: 1.7553 - accuracy: 0.3593 - val_loss: 1.8999 - val_accuracy: 0.3199\n",
      "Epoch 10/25\n",
      "78/78 [==============================] - 122s 2s/step - loss: 1.7733 - accuracy: 0.3770 - val_loss: 2.1441 - val_accuracy: 0.3439\n",
      "Epoch 11/25\n",
      "78/78 [==============================] - 116s 1s/step - loss: 1.7089 - accuracy: 0.3895 - val_loss: 1.8600 - val_accuracy: 0.3602\n",
      "Epoch 12/25\n",
      "78/78 [==============================] - 91s 1s/step - loss: 1.6770 - accuracy: 0.3999 - val_loss: 1.7982 - val_accuracy: 0.3266\n",
      "Epoch 13/25\n",
      "78/78 [==============================] - 99s 1s/step - loss: 1.6306 - accuracy: 0.4195 - val_loss: 2.1633 - val_accuracy: 0.3487\n",
      "Epoch 14/25\n",
      "78/78 [==============================] - 86s 1s/step - loss: 1.5985 - accuracy: 0.4238 - val_loss: 1.7405 - val_accuracy: 0.4301\n",
      "Epoch 15/25\n",
      "78/78 [==============================] - 84s 1s/step - loss: 1.5976 - accuracy: 0.4345 - val_loss: 2.0660 - val_accuracy: 0.3937\n",
      "Epoch 16/25\n",
      "78/78 [==============================] - 83s 1s/step - loss: 1.5347 - accuracy: 0.4534 - val_loss: 1.6562 - val_accuracy: 0.4330\n",
      "Epoch 17/25\n",
      "78/78 [==============================] - 84s 1s/step - loss: 1.4919 - accuracy: 0.4691 - val_loss: 1.5742 - val_accuracy: 0.4138\n",
      "Epoch 18/25\n",
      "78/78 [==============================] - 86s 1s/step - loss: 1.4930 - accuracy: 0.4578 - val_loss: 2.1044 - val_accuracy: 0.4291\n",
      "Epoch 19/25\n",
      "78/78 [==============================] - 85s 1s/step - loss: 1.4244 - accuracy: 0.5040 - val_loss: 2.0369 - val_accuracy: 0.4387\n",
      "Epoch 20/25\n",
      "78/78 [==============================] - 84s 1s/step - loss: 1.4351 - accuracy: 0.4908 - val_loss: 1.8377 - val_accuracy: 0.4483\n",
      "Epoch 21/25\n",
      "78/78 [==============================] - 84s 1s/step - loss: 1.4155 - accuracy: 0.4872 - val_loss: 1.8384 - val_accuracy: 0.4128\n",
      "Epoch 22/25\n",
      "78/78 [==============================] - 84s 1s/step - loss: 1.3602 - accuracy: 0.4992 - val_loss: 1.7859 - val_accuracy: 0.4799\n",
      "Epoch 23/25\n",
      "78/78 [==============================] - 86s 1s/step - loss: 1.3291 - accuracy: 0.5189 - val_loss: 2.0010 - val_accuracy: 0.4741\n",
      "Epoch 24/25\n",
      "78/78 [==============================] - 88s 1s/step - loss: 1.3356 - accuracy: 0.5358 - val_loss: 1.8867 - val_accuracy: 0.4473\n",
      "Epoch 25/25\n",
      "78/78 [==============================] - 93s 1s/step - loss: 1.3124 - accuracy: 0.5273 - val_loss: 1.7619 - val_accuracy: 0.4636\n"
     ]
    },
    {
     "data": {
      "text/plain": [
       "<keras.callbacks.callbacks.History at 0x13f21abdbc8>"
      ]
     },
     "execution_count": 27,
     "metadata": {},
     "output_type": "execute_result"
    }
   ],
   "source": [
    "model.fit_generator(x_train,steps_per_epoch=78,epochs=25,validation_data=x_test,validation_steps=33)"
   ]
  },
  {
   "cell_type": "code",
   "execution_count": 29,
   "metadata": {},
   "outputs": [
    {
     "name": "stdout",
     "output_type": "stream",
     "text": [
      "{'0': 0, '1': 1, '2': 2, '3': 3, '4': 4, '5': 5, '6': 6, '7': 7, '8': 8, '9': 9, 'a': 10, 'b': 11, 'c': 12, 'd': 13, 'e': 14, 'f': 15, 'g': 16, 'h': 17, 'i': 18, 'j': 19, 'k': 20, 'l': 21, 'm': 22, 'n': 23, 'o': 24, 'p': 25, 'q': 26, 'r': 27, 's': 28, 't': 29, 'u': 30, 'v': 31, 'w': 32, 'x': 33, 'y': 34, 'z': 35}\n"
     ]
    }
   ],
   "source": [
    "print(x_train.class_indices)"
   ]
  },
  {
   "cell_type": "code",
   "execution_count": 32,
   "metadata": {},
   "outputs": [],
   "source": [
    "model.save(\"conversation engine.h5\")"
   ]
  },
  {
   "cell_type": "code",
   "execution_count": 44,
   "metadata": {},
   "outputs": [],
   "source": [
    "from keras.models import load_model\n",
    "from keras.preprocessing import image\n",
    "model=load_model(\"conversation engine.h5\")"
   ]
  },
  {
   "cell_type": "code",
   "execution_count": 45,
   "metadata": {},
   "outputs": [],
   "source": [
    "img=image.load_img(r'C:\\Users\\Dell\\Desktop\\Deaf and Dumb - AI app\\a.jpg',target_size=(150,150))"
   ]
  },
  {
   "cell_type": "code",
   "execution_count": 46,
   "metadata": {},
   "outputs": [],
   "source": [
    "import numpy as np\n",
    "x=image.img_to_array(img)\n",
    "x=np.expand_dims(x,axis=0)\n",
    "pred=model.predict_classes(x)"
   ]
  },
  {
   "cell_type": "code",
   "execution_count": 47,
   "metadata": {},
   "outputs": [
    {
     "data": {
      "text/plain": [
       "array([10], dtype=int64)"
      ]
     },
     "execution_count": 47,
     "metadata": {},
     "output_type": "execute_result"
    }
   ],
   "source": [
    "pred"
   ]
  }
 ],
 "metadata": {
  "kernelspec": {
   "display_name": "tensorflow_env",
   "language": "python",
   "name": "tensorflow_env"
  },
  "language_info": {
   "codemirror_mode": {
    "name": "ipython",
    "version": 3
   },
   "file_extension": ".py",
   "mimetype": "text/x-python",
   "name": "python",
   "nbconvert_exporter": "python",
   "pygments_lexer": "ipython3",
   "version": "3.7.7"
  }
 },
 "nbformat": 4,
 "nbformat_minor": 4
}
